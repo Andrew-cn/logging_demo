{
 "cells": [
  {
   "cell_type": "markdown",
   "metadata": {},
   "source": [
    "* https://github.com/benoitc/gunicorn\n",
    "* https://gunicorn.org/"
   ]
  },
  {
   "cell_type": "code",
   "execution_count": null,
   "metadata": {},
   "outputs": [],
   "source": [
    "%%bash\n",
    "sudo -HE pip install -r requirements.txt"
   ]
  },
  {
   "cell_type": "code",
   "execution_count": null,
   "metadata": {},
   "outputs": [],
   "source": [
    "%%bash\n",
    "gunicorn --reload --workers 4 myapp:app"
   ]
  },
  {
   "cell_type": "markdown",
   "metadata": {},
   "source": [
    "* https://docs.python.org/3/library/logging.config.html#configuration-file-format\n",
    "* https://github.com/benoitc/gunicorn/blob/master/examples/logging.conf"
   ]
  },
  {
   "cell_type": "code",
   "execution_count": null,
   "metadata": {},
   "outputs": [],
   "source": [
    "%%writefile gunicorn-log.conf\n",
    "[loggers]\n",
    "keys=root, gunicorn.error\n",
    "\n",
    "[handlers]\n",
    "keys=error_console\n",
    "\n",
    "[formatters]\n",
    "keys=generic\n",
    "\n",
    "[logger_root]\n",
    "level=INFO\n",
    "handlers=error_console\n",
    "\n",
    "[logger_gunicorn.error]\n",
    "level=INFO\n",
    "handlers=error_console\n",
    "propagate=0\n",
    "qualname=gunicorn.error\n",
    "\n",
    "[handler_error_console]\n",
    "class=StreamHandler\n",
    "formatter=generic\n",
    "args=(sys.stderr, )\n",
    "\n",
    "[formatter_generic]\n",
    "format=%(asctime)s %(levelname)-5s [%(module)s] ~ %(message)s\n",
    "datefmt=%Y-%m-%d %H:%M:%S %Z\n",
    "class=logging.Formatter"
   ]
  },
  {
   "cell_type": "markdown",
   "metadata": {},
   "source": [
    "* https://docs.gunicorn.org/en/stable/settings.html#logconfig"
   ]
  },
  {
   "cell_type": "code",
   "execution_count": null,
   "metadata": {},
   "outputs": [],
   "source": [
    "%%bash\n",
    "gunicorn --reload --workers 4 --log-config gunicorn-log.conf myapp:app"
   ]
  },
  {
   "cell_type": "markdown",
   "metadata": {},
   "source": [
    "* https://docs.python.org/3/library/logging.config.html#logging.config.dictConfig"
   ]
  },
  {
   "cell_type": "code",
   "execution_count": null,
   "metadata": {},
   "outputs": [],
   "source": [
    "# one example\n",
    "{\n",
    "  \"version\": 1,\n",
    "  \"disable_existing_loggers\": true,\n",
    "  \"filters\": {\n",
    "    \"skipDebug\": {\n",
    "      \"()\": \"__main__.RemoveLevelFilter\",\n",
    "      \"levelToSkip\": \"DEBUG\"\n",
    "    }\n",
    "  },\n",
    "  \"formatters\": {\n",
    "    \"simple\": {\n",
    "      \"format\": \"%(asctime)s|%(name)s [%(levelname)s] - %(message)s\"\n",
    "    }\n",
    "  },\n",
    "  \"handlers\": {\n",
    "    \"console\":{\n",
    "      \"level\": \"DEBUG\",\n",
    "      \"class\": \"logging.StreamHandler\",\n",
    "      \"formatter\": \"simple\",\n",
    "      \"stream\" : \"ext://sys.stdout\"\n",
    "    },\n",
    "    \"file\": {\n",
    "      \"level\": \"DEBUG\",\n",
    "      \"class\": \"logging.handlers.RotatingFileHandler\",\n",
    "      \"maxBytes\": 5242880,\n",
    "      \"backupCount\": 3,\n",
    "      \"formatter\": \"simple\",\n",
    "      \"filename\": \"log.log\",\n",
    "      \"mode\": \"a\",\n",
    "      \"encoding\": \"utf-8\",\n",
    "      \"filters\": [\"skipDebug\"]\n",
    "    }\n",
    "  },\n",
    "  \"loggers\": {},\n",
    "  \"root\": {\n",
    "    \"handlers\": [\"console\", \"file\"],\n",
    "    \"level\": \"DEBUG\"\n",
    "  }\n",
    "}"
   ]
  },
  {
   "cell_type": "code",
   "execution_count": null,
   "metadata": {},
   "outputs": [],
   "source": [
    "# another example\n",
    "import sys, logging\n",
    "\n",
    "class StdErrFilter(logging.Filter):\n",
    "    def filter(self, rec):\n",
    "        return rec.levelno in (logging.ERROR, logging.WARNING)\n",
    "\n",
    "class StdOutFilter(logging.Filter):\n",
    "    def filter(self, rec):\n",
    "        return rec.levelno in (logging.DEBUG, logging.INFO)\n",
    "\n",
    "logger = logging.getLogger(__name__)\n",
    "logger.setLevel(logging.DEBUG)\n",
    "\n",
    "formatter = logging.Formatter('%(process)s - %(asctime)s - %(name)s - %(levelname)s - %(message)s')\n",
    "\n",
    "h1 = logging.StreamHandler(sys.stdout)\n",
    "h1.setLevel(logging.DEBUG)\n",
    "h1.setFormatter(formatter)\n",
    "h1.addFilter(StdOutFilter())\n",
    "logger.addHandler(h1)\n",
    "\n",
    "h2 = logging.StreamHandler(sys.stderr)\n",
    "h2.setLevel(logging.WARNING)\n",
    "h2.setFormatter(formatter)\n",
    "h2.addFilter(StdErrFilter())\n",
    "logger.addHandler(h2)"
   ]
  },
  {
   "cell_type": "markdown",
   "metadata": {},
   "source": [
    "https://github.com/benoitc/gunicorn/blob/548d5828da6b93fa6a14217742c6e6d2c7b2b900/gunicorn/glogging.py#L48"
   ]
  },
  {
   "cell_type": "code",
   "execution_count": null,
   "metadata": {},
   "outputs": [],
   "source": [
    "# original configurations\n",
    "dict(\n",
    "    version=1,\n",
    "    disable_existing_loggers=False,\n",
    "\n",
    "    root={\"level\": \"INFO\", \"handlers\": [\"console\"]},\n",
    "    loggers={\n",
    "        \"gunicorn.error\": {\n",
    "            \"level\": \"INFO\",\n",
    "            \"handlers\": [\"error_console\"],\n",
    "            \"propagate\": True,\n",
    "            \"qualname\": \"gunicorn.error\"\n",
    "        },\n",
    "\n",
    "        \"gunicorn.access\": {\n",
    "            \"level\": \"INFO\",\n",
    "            \"handlers\": [\"console\"],\n",
    "            \"propagate\": True,\n",
    "            \"qualname\": \"gunicorn.access\"\n",
    "        }\n",
    "    },\n",
    "    handlers={\n",
    "        \"console\": {\n",
    "            \"class\": \"logging.StreamHandler\",\n",
    "            \"formatter\": \"generic\",\n",
    "            \"stream\": \"ext://sys.stdout\"\n",
    "        },\n",
    "        \"error_console\": {\n",
    "            \"class\": \"logging.StreamHandler\",\n",
    "            \"formatter\": \"generic\",\n",
    "            \"stream\": \"ext://sys.stderr\"\n",
    "        },\n",
    "    },\n",
    "    formatters={\n",
    "        \"generic\": {\n",
    "            \"format\": \"%(asctime)s [%(process)d] [%(levelname)s] %(message)s\",\n",
    "            \"datefmt\": \"[%Y-%m-%d %H:%M:%S %z]\",\n",
    "            \"class\": \"logging.Formatter\"\n",
    "        }\n",
    "    }\n",
    ")"
   ]
  },
  {
   "cell_type": "code",
   "execution_count": null,
   "metadata": {},
   "outputs": [],
   "source": [
    "# new configurations\n",
    "{\n",
    "    'version': 1,\n",
    "    'filters': {\n",
    "        'myfilter': {\n",
    "            '()': MyFilter,\n",
    "            'param': 'noshow',\n",
    "        }\n",
    "    },\n",
    "    'handlers': {\n",
    "        'console': {\n",
    "            'class': 'logging.StreamHandler',\n",
    "            'filters': ['myfilter']\n",
    "        }\n",
    "    },\n",
    "    'root': {\n",
    "        'level': 'DEBUG',\n",
    "        'handlers': ['console']\n",
    "    },\n",
    "}"
   ]
  },
  {
   "cell_type": "markdown",
   "metadata": {},
   "source": [
    "* https://docs.gunicorn.org/en/stable/settings.html#logconfig-dict"
   ]
  },
  {
   "cell_type": "code",
   "execution_count": null,
   "metadata": {},
   "outputs": [],
   "source": [
    "%%bash\n",
    "gunicorn --reload --workers 4 --log-config-dict {} myapp:app"
   ]
  },
  {
   "cell_type": "code",
   "execution_count": null,
   "metadata": {},
   "outputs": [],
   "source": [
    "%%bash\n",
    "gunicorn --reload --workers 4 --log-config-dict '{\"loggers\":{\"gunicorn.error\":{\"level\":\"ERROR\"}}}' myapp:app 1> stdout.txt 2> stderr.txt"
   ]
  },
  {
   "cell_type": "markdown",
   "metadata": {},
   "source": [
    "* https://docs.python.org/3/library/logging.config.html#configuration-file-format\n",
    "* https://github.com/benoitc/gunicorn/blob/master/examples/logging.conf"
   ]
  },
  {
   "cell_type": "code",
   "execution_count": null,
   "metadata": {},
   "outputs": [],
   "source": [
    "%%writefile gunicorn-log.conf\n",
    "[loggers]\n",
    "keys=root, gunicorn.error, gunicorn.access\n",
    "\n",
    "[handlers]\n",
    "keys=console, error_console\n",
    "\n",
    "[formatters]\n",
    "keys=generic, access\n",
    "\n",
    "[logger_root]\n",
    "level=INFO\n",
    "handlers=console\n",
    "\n",
    "[logger_gunicorn.error]\n",
    "level=NOTSET\n",
    "handlers=console, error_console\n",
    "propagate=1\n",
    "qualname=gunicorn.error\n",
    "\n",
    "[logger_gunicorn.access]\n",
    "level=INFO\n",
    "handlers=console\n",
    "propagate=0\n",
    "qualname=gunicorn.access\n",
    "\n",
    "[handler_console]\n",
    "level=INFO\n",
    "class=StreamHandler\n",
    "formatter=generic\n",
    "args=(sys.stdout, )\n",
    "\n",
    "[handler_error_console]\n",
    "level=ERROR\n",
    "class=StreamHandler\n",
    "formatter=generic\n",
    "args=(sys.stderr, )\n",
    "\n",
    "[formatter_generic]\n",
    "format=%(asctime)s [%(process)d] [%(levelname)s] %(message)s\n",
    "datefmt=%Y-%m-%d %H:%M:%S\n",
    "class=logging.Formatter\n",
    "\n",
    "[formatter_access]\n",
    "format=%(message)s\n",
    "class=logging.Formatter"
   ]
  },
  {
   "cell_type": "markdown",
   "metadata": {},
   "source": [
    "* https://docs.gunicorn.org/en/stable/settings.html#logconfig"
   ]
  },
  {
   "cell_type": "code",
   "execution_count": null,
   "metadata": {},
   "outputs": [],
   "source": [
    "%%bash\n",
    "gunicorn --reload --workers 4 --bind 0.0.0.0:8888 --log-config gunicorn-log.conf myapp:app"
   ]
  }
 ],
 "metadata": {
  "kernelspec": {
   "display_name": "Python 3",
   "language": "python",
   "name": "python3"
  },
  "language_info": {
   "codemirror_mode": {
    "name": "ipython",
    "version": 3
   },
   "file_extension": ".py",
   "mimetype": "text/x-python",
   "name": "python",
   "nbconvert_exporter": "python",
   "pygments_lexer": "ipython3",
   "version": "3.6.7"
  }
 },
 "nbformat": 4,
 "nbformat_minor": 4
}
